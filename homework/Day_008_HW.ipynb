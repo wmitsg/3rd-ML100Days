{
 "cells": [
  {
   "cell_type": "markdown",
   "metadata": {},
   "source": [
    "# [作業目標]\n",
    "- 對資料做更多處理 : 顯示特定欄位的統計值與直方圖"
   ]
  },
  {
   "cell_type": "markdown",
   "metadata": {},
   "source": [
    "# [作業重點]\n",
    "- 試著顯示特定欄位的基礎統計數值 (In[4], Out[4], Hint : describe())\n",
    "- 試著顯示特定欄位的直方圖 (In[5], Out[5], Hint : .hist())"
   ]
  },
  {
   "cell_type": "code",
   "execution_count": 3,
   "metadata": {},
   "outputs": [],
   "source": [
    "# Import 需要的套件\n",
    "import os\n",
    "import numpy as np\n",
    "import pandas as pd\n",
    "\n",
    "# 設定 data_path\n",
    "dir_data = '../../data/'"
   ]
  },
  {
   "cell_type": "code",
   "execution_count": 4,
   "metadata": {},
   "outputs": [
    {
     "data": {
      "text/plain": [
       "(307511, 122)"
      ]
     },
     "execution_count": 4,
     "metadata": {},
     "output_type": "execute_result"
    }
   ],
   "source": [
    "#f_app_train = os.path.join(dir_data, 'application_train.csv')\n",
    "#app_train = pd.read_csv(f_app_train)\n",
    "#f_app_train = os.path.join(dir_data, 'application_train.csv')\n",
    "app_train = pd.read_csv(dir_data +'application_train.csv')\n",
    "app_train.shape"
   ]
  },
  {
   "cell_type": "code",
   "execution_count": 5,
   "metadata": {},
   "outputs": [],
   "source": [
    "import matplotlib.pyplot as plt\n",
    "%matplotlib inline"
   ]
  },
  {
   "cell_type": "markdown",
   "metadata": {},
   "source": [
    "## 練習時間"
   ]
  },
  {
   "cell_type": "markdown",
   "metadata": {},
   "source": [
    "觀察有興趣的欄位的資料分佈，並嘗試找出有趣的訊息\n",
    "#### Eg\n",
    "- 計算任意欄位的平均數及標準差\n",
    "- 畫出任意欄位的[直方圖](https://zh.wikipedia.org/zh-tw/%E7%9B%B4%E6%96%B9%E5%9B%BE)\n",
    "\n",
    "### Hints:\n",
    "- [Descriptive Statistics For pandas Dataframe](https://chrisalbon.com/python/data_wrangling/pandas_dataframe_descriptive_stats/)\n",
    "- [pandas 中的繪圖函數](https://amaozhao.gitbooks.io/pandas-notebook/content/pandas%E4%B8%AD%E7%9A%84%E7%BB%98%E5%9B%BE%E5%87%BD%E6%95%B0.html)\n"
   ]
  },
  {
   "cell_type": "code",
   "execution_count": 58,
   "metadata": {},
   "outputs": [
    {
     "data": {
      "text/html": [
       "<div>\n",
       "<style scoped>\n",
       "    .dataframe tbody tr th:only-of-type {\n",
       "        vertical-align: middle;\n",
       "    }\n",
       "\n",
       "    .dataframe tbody tr th {\n",
       "        vertical-align: top;\n",
       "    }\n",
       "\n",
       "    .dataframe thead th {\n",
       "        text-align: right;\n",
       "    }\n",
       "</style>\n",
       "<table border=\"1\" class=\"dataframe\">\n",
       "  <thead>\n",
       "    <tr style=\"text-align: right;\">\n",
       "      <th></th>\n",
       "      <th>SK_ID_CURR</th>\n",
       "      <th>TARGET</th>\n",
       "      <th>NAME_CONTRACT_TYPE</th>\n",
       "      <th>CODE_GENDER</th>\n",
       "      <th>FLAG_OWN_CAR</th>\n",
       "      <th>FLAG_OWN_REALTY</th>\n",
       "      <th>CNT_CHILDREN</th>\n",
       "      <th>AMT_INCOME_TOTAL</th>\n",
       "      <th>AMT_CREDIT</th>\n",
       "      <th>AMT_ANNUITY</th>\n",
       "      <th>...</th>\n",
       "      <th>FLAG_DOCUMENT_18</th>\n",
       "      <th>FLAG_DOCUMENT_19</th>\n",
       "      <th>FLAG_DOCUMENT_20</th>\n",
       "      <th>FLAG_DOCUMENT_21</th>\n",
       "      <th>AMT_REQ_CREDIT_BUREAU_HOUR</th>\n",
       "      <th>AMT_REQ_CREDIT_BUREAU_DAY</th>\n",
       "      <th>AMT_REQ_CREDIT_BUREAU_WEEK</th>\n",
       "      <th>AMT_REQ_CREDIT_BUREAU_MON</th>\n",
       "      <th>AMT_REQ_CREDIT_BUREAU_QRT</th>\n",
       "      <th>AMT_REQ_CREDIT_BUREAU_YEAR</th>\n",
       "    </tr>\n",
       "  </thead>\n",
       "  <tbody>\n",
       "    <tr>\n",
       "      <th>0</th>\n",
       "      <td>100002</td>\n",
       "      <td>1</td>\n",
       "      <td>Cash loans</td>\n",
       "      <td>M</td>\n",
       "      <td>N</td>\n",
       "      <td>Y</td>\n",
       "      <td>0</td>\n",
       "      <td>202500.0</td>\n",
       "      <td>406597.5</td>\n",
       "      <td>24700.5</td>\n",
       "      <td>...</td>\n",
       "      <td>0</td>\n",
       "      <td>0</td>\n",
       "      <td>0</td>\n",
       "      <td>0</td>\n",
       "      <td>0.0</td>\n",
       "      <td>0.0</td>\n",
       "      <td>0.0</td>\n",
       "      <td>0.0</td>\n",
       "      <td>0.0</td>\n",
       "      <td>1.0</td>\n",
       "    </tr>\n",
       "    <tr>\n",
       "      <th>1</th>\n",
       "      <td>100003</td>\n",
       "      <td>0</td>\n",
       "      <td>Cash loans</td>\n",
       "      <td>F</td>\n",
       "      <td>N</td>\n",
       "      <td>N</td>\n",
       "      <td>0</td>\n",
       "      <td>270000.0</td>\n",
       "      <td>1293502.5</td>\n",
       "      <td>35698.5</td>\n",
       "      <td>...</td>\n",
       "      <td>0</td>\n",
       "      <td>0</td>\n",
       "      <td>0</td>\n",
       "      <td>0</td>\n",
       "      <td>0.0</td>\n",
       "      <td>0.0</td>\n",
       "      <td>0.0</td>\n",
       "      <td>0.0</td>\n",
       "      <td>0.0</td>\n",
       "      <td>0.0</td>\n",
       "    </tr>\n",
       "    <tr>\n",
       "      <th>2</th>\n",
       "      <td>100004</td>\n",
       "      <td>0</td>\n",
       "      <td>Revolving loans</td>\n",
       "      <td>M</td>\n",
       "      <td>Y</td>\n",
       "      <td>Y</td>\n",
       "      <td>0</td>\n",
       "      <td>67500.0</td>\n",
       "      <td>135000.0</td>\n",
       "      <td>6750.0</td>\n",
       "      <td>...</td>\n",
       "      <td>0</td>\n",
       "      <td>0</td>\n",
       "      <td>0</td>\n",
       "      <td>0</td>\n",
       "      <td>0.0</td>\n",
       "      <td>0.0</td>\n",
       "      <td>0.0</td>\n",
       "      <td>0.0</td>\n",
       "      <td>0.0</td>\n",
       "      <td>0.0</td>\n",
       "    </tr>\n",
       "    <tr>\n",
       "      <th>3</th>\n",
       "      <td>100006</td>\n",
       "      <td>0</td>\n",
       "      <td>Cash loans</td>\n",
       "      <td>F</td>\n",
       "      <td>N</td>\n",
       "      <td>Y</td>\n",
       "      <td>0</td>\n",
       "      <td>135000.0</td>\n",
       "      <td>312682.5</td>\n",
       "      <td>29686.5</td>\n",
       "      <td>...</td>\n",
       "      <td>0</td>\n",
       "      <td>0</td>\n",
       "      <td>0</td>\n",
       "      <td>0</td>\n",
       "      <td>NaN</td>\n",
       "      <td>NaN</td>\n",
       "      <td>NaN</td>\n",
       "      <td>NaN</td>\n",
       "      <td>NaN</td>\n",
       "      <td>NaN</td>\n",
       "    </tr>\n",
       "    <tr>\n",
       "      <th>4</th>\n",
       "      <td>100007</td>\n",
       "      <td>0</td>\n",
       "      <td>Cash loans</td>\n",
       "      <td>M</td>\n",
       "      <td>N</td>\n",
       "      <td>Y</td>\n",
       "      <td>0</td>\n",
       "      <td>121500.0</td>\n",
       "      <td>513000.0</td>\n",
       "      <td>21865.5</td>\n",
       "      <td>...</td>\n",
       "      <td>0</td>\n",
       "      <td>0</td>\n",
       "      <td>0</td>\n",
       "      <td>0</td>\n",
       "      <td>0.0</td>\n",
       "      <td>0.0</td>\n",
       "      <td>0.0</td>\n",
       "      <td>0.0</td>\n",
       "      <td>0.0</td>\n",
       "      <td>0.0</td>\n",
       "    </tr>\n",
       "  </tbody>\n",
       "</table>\n",
       "<p>5 rows × 122 columns</p>\n",
       "</div>"
      ],
      "text/plain": [
       "   SK_ID_CURR  TARGET NAME_CONTRACT_TYPE CODE_GENDER FLAG_OWN_CAR  \\\n",
       "0      100002       1         Cash loans           M            N   \n",
       "1      100003       0         Cash loans           F            N   \n",
       "2      100004       0    Revolving loans           M            Y   \n",
       "3      100006       0         Cash loans           F            N   \n",
       "4      100007       0         Cash loans           M            N   \n",
       "\n",
       "  FLAG_OWN_REALTY  CNT_CHILDREN  AMT_INCOME_TOTAL  AMT_CREDIT  AMT_ANNUITY  \\\n",
       "0               Y             0          202500.0    406597.5      24700.5   \n",
       "1               N             0          270000.0   1293502.5      35698.5   \n",
       "2               Y             0           67500.0    135000.0       6750.0   \n",
       "3               Y             0          135000.0    312682.5      29686.5   \n",
       "4               Y             0          121500.0    513000.0      21865.5   \n",
       "\n",
       "   ...  FLAG_DOCUMENT_18 FLAG_DOCUMENT_19 FLAG_DOCUMENT_20 FLAG_DOCUMENT_21  \\\n",
       "0  ...                 0                0                0                0   \n",
       "1  ...                 0                0                0                0   \n",
       "2  ...                 0                0                0                0   \n",
       "3  ...                 0                0                0                0   \n",
       "4  ...                 0                0                0                0   \n",
       "\n",
       "  AMT_REQ_CREDIT_BUREAU_HOUR AMT_REQ_CREDIT_BUREAU_DAY  \\\n",
       "0                        0.0                       0.0   \n",
       "1                        0.0                       0.0   \n",
       "2                        0.0                       0.0   \n",
       "3                        NaN                       NaN   \n",
       "4                        0.0                       0.0   \n",
       "\n",
       "   AMT_REQ_CREDIT_BUREAU_WEEK  AMT_REQ_CREDIT_BUREAU_MON  \\\n",
       "0                         0.0                        0.0   \n",
       "1                         0.0                        0.0   \n",
       "2                         0.0                        0.0   \n",
       "3                         NaN                        NaN   \n",
       "4                         0.0                        0.0   \n",
       "\n",
       "   AMT_REQ_CREDIT_BUREAU_QRT  AMT_REQ_CREDIT_BUREAU_YEAR  \n",
       "0                        0.0                         1.0  \n",
       "1                        0.0                         0.0  \n",
       "2                        0.0                         0.0  \n",
       "3                        NaN                         NaN  \n",
       "4                        0.0                         0.0  \n",
       "\n",
       "[5 rows x 122 columns]"
      ]
     },
     "execution_count": 58,
     "metadata": {},
     "output_type": "execute_result"
    }
   ],
   "source": [
    "app_train.head()"
   ]
  },
  {
   "cell_type": "code",
   "execution_count": null,
   "metadata": {},
   "outputs": [],
   "source": [
    "app_train.columns"
   ]
  },
  {
   "cell_type": "code",
   "execution_count": null,
   "metadata": {},
   "outputs": [],
   "source": [
    "app_train.dtypes"
   ]
  },
  {
   "cell_type": "code",
   "execution_count": null,
   "metadata": {},
   "outputs": [],
   "source": [
    "dtype_df = app_train.dtypes.reset_index()\n",
    "dtype_df.columns = [\"Count\", \"Column Type\"]\n",
    "dtype_df = dtype_df.groupby(\"Column Type\").aggregate('count').reset_index()\n",
    "dtype_df"
   ]
  },
  {
   "cell_type": "code",
   "execution_count": 50,
   "metadata": {},
   "outputs": [
    {
     "name": "stdout",
     "output_type": "stream",
     "text": [
      "41 Integer Features : ['SK_ID_CURR', 'TARGET', 'CNT_CHILDREN', 'DAYS_BIRTH', 'DAYS_EMPLOYED', 'DAYS_ID_PUBLISH', 'FLAG_MOBIL', 'FLAG_EMP_PHONE', 'FLAG_WORK_PHONE', 'FLAG_CONT_MOBILE', 'FLAG_PHONE', 'FLAG_EMAIL', 'REGION_RATING_CLIENT', 'REGION_RATING_CLIENT_W_CITY', 'HOUR_APPR_PROCESS_START', 'REG_REGION_NOT_LIVE_REGION', 'REG_REGION_NOT_WORK_REGION', 'LIVE_REGION_NOT_WORK_REGION', 'REG_CITY_NOT_LIVE_CITY', 'REG_CITY_NOT_WORK_CITY', 'LIVE_CITY_NOT_WORK_CITY', 'FLAG_DOCUMENT_2', 'FLAG_DOCUMENT_3', 'FLAG_DOCUMENT_4', 'FLAG_DOCUMENT_5', 'FLAG_DOCUMENT_6', 'FLAG_DOCUMENT_7', 'FLAG_DOCUMENT_8', 'FLAG_DOCUMENT_9', 'FLAG_DOCUMENT_10', 'FLAG_DOCUMENT_11', 'FLAG_DOCUMENT_12', 'FLAG_DOCUMENT_13', 'FLAG_DOCUMENT_14', 'FLAG_DOCUMENT_15', 'FLAG_DOCUMENT_16', 'FLAG_DOCUMENT_17', 'FLAG_DOCUMENT_18', 'FLAG_DOCUMENT_19', 'FLAG_DOCUMENT_20', 'FLAG_DOCUMENT_21']\n",
      "\n",
      "65 Float Features : ['AMT_INCOME_TOTAL', 'AMT_CREDIT', 'AMT_ANNUITY', 'AMT_GOODS_PRICE', 'REGION_POPULATION_RELATIVE', 'DAYS_REGISTRATION', 'OWN_CAR_AGE', 'CNT_FAM_MEMBERS', 'EXT_SOURCE_1', 'EXT_SOURCE_2', 'EXT_SOURCE_3', 'APARTMENTS_AVG', 'BASEMENTAREA_AVG', 'YEARS_BEGINEXPLUATATION_AVG', 'YEARS_BUILD_AVG', 'COMMONAREA_AVG', 'ELEVATORS_AVG', 'ENTRANCES_AVG', 'FLOORSMAX_AVG', 'FLOORSMIN_AVG', 'LANDAREA_AVG', 'LIVINGAPARTMENTS_AVG', 'LIVINGAREA_AVG', 'NONLIVINGAPARTMENTS_AVG', 'NONLIVINGAREA_AVG', 'APARTMENTS_MODE', 'BASEMENTAREA_MODE', 'YEARS_BEGINEXPLUATATION_MODE', 'YEARS_BUILD_MODE', 'COMMONAREA_MODE', 'ELEVATORS_MODE', 'ENTRANCES_MODE', 'FLOORSMAX_MODE', 'FLOORSMIN_MODE', 'LANDAREA_MODE', 'LIVINGAPARTMENTS_MODE', 'LIVINGAREA_MODE', 'NONLIVINGAPARTMENTS_MODE', 'NONLIVINGAREA_MODE', 'APARTMENTS_MEDI', 'BASEMENTAREA_MEDI', 'YEARS_BEGINEXPLUATATION_MEDI', 'YEARS_BUILD_MEDI', 'COMMONAREA_MEDI', 'ELEVATORS_MEDI', 'ENTRANCES_MEDI', 'FLOORSMAX_MEDI', 'FLOORSMIN_MEDI', 'LANDAREA_MEDI', 'LIVINGAPARTMENTS_MEDI', 'LIVINGAREA_MEDI', 'NONLIVINGAPARTMENTS_MEDI', 'NONLIVINGAREA_MEDI', 'TOTALAREA_MODE', 'OBS_30_CNT_SOCIAL_CIRCLE', 'DEF_30_CNT_SOCIAL_CIRCLE', 'OBS_60_CNT_SOCIAL_CIRCLE', 'DEF_60_CNT_SOCIAL_CIRCLE', 'DAYS_LAST_PHONE_CHANGE', 'AMT_REQ_CREDIT_BUREAU_HOUR', 'AMT_REQ_CREDIT_BUREAU_DAY', 'AMT_REQ_CREDIT_BUREAU_WEEK', 'AMT_REQ_CREDIT_BUREAU_MON', 'AMT_REQ_CREDIT_BUREAU_QRT', 'AMT_REQ_CREDIT_BUREAU_YEAR']\n",
      "\n",
      "16 Object Features : ['NAME_CONTRACT_TYPE', 'CODE_GENDER', 'FLAG_OWN_CAR', 'FLAG_OWN_REALTY', 'NAME_TYPE_SUITE', 'NAME_INCOME_TYPE', 'NAME_EDUCATION_TYPE', 'NAME_FAMILY_STATUS', 'NAME_HOUSING_TYPE', 'OCCUPATION_TYPE', 'WEEKDAY_APPR_PROCESS_START', 'ORGANIZATION_TYPE', 'FONDKAPREMONT_MODE', 'HOUSETYPE_MODE', 'WALLSMATERIAL_MODE', 'EMERGENCYSTATE_MODE']\n"
     ]
    }
   ],
   "source": [
    "int_features = []\n",
    "float_features = []\n",
    "object_features = []\n",
    "for dtype, feature in zip(app_train.dtypes, app_train.columns):\n",
    "    if dtype == 'float64':\n",
    "        float_features.append(feature)\n",
    "    elif dtype == 'int64':\n",
    "        int_features.append(feature)\n",
    "    else:\n",
    "        object_features.append(feature)\n",
    "print(f'{len(int_features)} Integer Features : {int_features}\\n')\n",
    "print(f'{len(float_features)} Float Features : {float_features}\\n')\n",
    "print(f'{len(object_features)} Object Features : {object_features}')"
   ]
  },
  {
   "cell_type": "code",
   "execution_count": null,
   "metadata": {},
   "outputs": [],
   "source": [
    "app_train[int_features].mean()"
   ]
  },
  {
   "cell_type": "code",
   "execution_count": null,
   "metadata": {},
   "outputs": [],
   "source": [
    "app_train[int_features].std()"
   ]
  },
  {
   "cell_type": "code",
   "execution_count": 67,
   "metadata": {},
   "outputs": [
    {
     "data": {
      "text/plain": [
       "AMT_INCOME_TOTAL                168797.919297\n",
       "AMT_CREDIT                      599025.999706\n",
       "AMT_ANNUITY                      27108.573909\n",
       "AMT_GOODS_PRICE                 538396.207429\n",
       "REGION_POPULATION_RELATIVE           0.020868\n",
       "DAYS_REGISTRATION                -4986.120328\n",
       "OWN_CAR_AGE                         12.061091\n",
       "CNT_FAM_MEMBERS                      2.152665\n",
       "EXT_SOURCE_1                         0.502130\n",
       "EXT_SOURCE_2                         0.514393\n",
       "EXT_SOURCE_3                         0.510853\n",
       "APARTMENTS_AVG                       0.117440\n",
       "BASEMENTAREA_AVG                     0.088442\n",
       "YEARS_BEGINEXPLUATATION_AVG          0.977735\n",
       "YEARS_BUILD_AVG                      0.752471\n",
       "COMMONAREA_AVG                       0.044621\n",
       "ELEVATORS_AVG                        0.078942\n",
       "ENTRANCES_AVG                        0.149725\n",
       "FLOORSMAX_AVG                        0.226282\n",
       "FLOORSMIN_AVG                        0.231894\n",
       "LANDAREA_AVG                         0.066333\n",
       "LIVINGAPARTMENTS_AVG                 0.100775\n",
       "LIVINGAREA_AVG                       0.107399\n",
       "NONLIVINGAPARTMENTS_AVG              0.008809\n",
       "NONLIVINGAREA_AVG                    0.028358\n",
       "APARTMENTS_MODE                      0.114231\n",
       "BASEMENTAREA_MODE                    0.087543\n",
       "YEARS_BEGINEXPLUATATION_MODE         0.977065\n",
       "YEARS_BUILD_MODE                     0.759637\n",
       "COMMONAREA_MODE                      0.042553\n",
       "                                    ...      \n",
       "LIVINGAPARTMENTS_MODE                0.105645\n",
       "LIVINGAREA_MODE                      0.105975\n",
       "NONLIVINGAPARTMENTS_MODE             0.008076\n",
       "NONLIVINGAREA_MODE                   0.027022\n",
       "APARTMENTS_MEDI                      0.117850\n",
       "BASEMENTAREA_MEDI                    0.087955\n",
       "YEARS_BEGINEXPLUATATION_MEDI         0.977752\n",
       "YEARS_BUILD_MEDI                     0.755746\n",
       "COMMONAREA_MEDI                      0.044595\n",
       "ELEVATORS_MEDI                       0.078078\n",
       "ENTRANCES_MEDI                       0.149213\n",
       "FLOORSMAX_MEDI                       0.225897\n",
       "FLOORSMIN_MEDI                       0.231625\n",
       "LANDAREA_MEDI                        0.067169\n",
       "LIVINGAPARTMENTS_MEDI                0.101954\n",
       "LIVINGAREA_MEDI                      0.108607\n",
       "NONLIVINGAPARTMENTS_MEDI             0.008651\n",
       "NONLIVINGAREA_MEDI                   0.028236\n",
       "TOTALAREA_MODE                       0.102547\n",
       "OBS_30_CNT_SOCIAL_CIRCLE             1.422245\n",
       "DEF_30_CNT_SOCIAL_CIRCLE             0.143421\n",
       "OBS_60_CNT_SOCIAL_CIRCLE             1.405292\n",
       "DEF_60_CNT_SOCIAL_CIRCLE             0.100049\n",
       "DAYS_LAST_PHONE_CHANGE            -962.858788\n",
       "AMT_REQ_CREDIT_BUREAU_HOUR           0.006402\n",
       "AMT_REQ_CREDIT_BUREAU_DAY            0.007000\n",
       "AMT_REQ_CREDIT_BUREAU_WEEK           0.034362\n",
       "AMT_REQ_CREDIT_BUREAU_MON            0.267395\n",
       "AMT_REQ_CREDIT_BUREAU_QRT            0.265474\n",
       "AMT_REQ_CREDIT_BUREAU_YEAR           1.899974\n",
       "Length: 65, dtype: float64"
      ]
     },
     "execution_count": 67,
     "metadata": {},
     "output_type": "execute_result"
    }
   ],
   "source": [
    "app_train[float_features].mean()"
   ]
  },
  {
   "cell_type": "code",
   "execution_count": 68,
   "metadata": {},
   "outputs": [
    {
     "data": {
      "text/plain": [
       "AMT_INCOME_TOTAL                1.170000e+08\n",
       "AMT_CREDIT                      4.050000e+06\n",
       "AMT_ANNUITY                     2.580255e+05\n",
       "AMT_GOODS_PRICE                 4.050000e+06\n",
       "REGION_POPULATION_RELATIVE      7.250800e-02\n",
       "DAYS_REGISTRATION               0.000000e+00\n",
       "OWN_CAR_AGE                     9.100000e+01\n",
       "CNT_FAM_MEMBERS                 2.000000e+01\n",
       "EXT_SOURCE_1                    9.626928e-01\n",
       "EXT_SOURCE_2                    8.549997e-01\n",
       "EXT_SOURCE_3                    8.960095e-01\n",
       "APARTMENTS_AVG                  1.000000e+00\n",
       "BASEMENTAREA_AVG                1.000000e+00\n",
       "YEARS_BEGINEXPLUATATION_AVG     1.000000e+00\n",
       "YEARS_BUILD_AVG                 1.000000e+00\n",
       "COMMONAREA_AVG                  1.000000e+00\n",
       "ELEVATORS_AVG                   1.000000e+00\n",
       "ENTRANCES_AVG                   1.000000e+00\n",
       "FLOORSMAX_AVG                   1.000000e+00\n",
       "FLOORSMIN_AVG                   1.000000e+00\n",
       "LANDAREA_AVG                    1.000000e+00\n",
       "LIVINGAPARTMENTS_AVG            1.000000e+00\n",
       "LIVINGAREA_AVG                  1.000000e+00\n",
       "NONLIVINGAPARTMENTS_AVG         1.000000e+00\n",
       "NONLIVINGAREA_AVG               1.000000e+00\n",
       "APARTMENTS_MODE                 1.000000e+00\n",
       "BASEMENTAREA_MODE               1.000000e+00\n",
       "YEARS_BEGINEXPLUATATION_MODE    1.000000e+00\n",
       "YEARS_BUILD_MODE                1.000000e+00\n",
       "COMMONAREA_MODE                 1.000000e+00\n",
       "                                    ...     \n",
       "LIVINGAPARTMENTS_MODE           1.000000e+00\n",
       "LIVINGAREA_MODE                 1.000000e+00\n",
       "NONLIVINGAPARTMENTS_MODE        1.000000e+00\n",
       "NONLIVINGAREA_MODE              1.000000e+00\n",
       "APARTMENTS_MEDI                 1.000000e+00\n",
       "BASEMENTAREA_MEDI               1.000000e+00\n",
       "YEARS_BEGINEXPLUATATION_MEDI    1.000000e+00\n",
       "YEARS_BUILD_MEDI                1.000000e+00\n",
       "COMMONAREA_MEDI                 1.000000e+00\n",
       "ELEVATORS_MEDI                  1.000000e+00\n",
       "ENTRANCES_MEDI                  1.000000e+00\n",
       "FLOORSMAX_MEDI                  1.000000e+00\n",
       "FLOORSMIN_MEDI                  1.000000e+00\n",
       "LANDAREA_MEDI                   1.000000e+00\n",
       "LIVINGAPARTMENTS_MEDI           1.000000e+00\n",
       "LIVINGAREA_MEDI                 1.000000e+00\n",
       "NONLIVINGAPARTMENTS_MEDI        1.000000e+00\n",
       "NONLIVINGAREA_MEDI              1.000000e+00\n",
       "TOTALAREA_MODE                  1.000000e+00\n",
       "OBS_30_CNT_SOCIAL_CIRCLE        3.480000e+02\n",
       "DEF_30_CNT_SOCIAL_CIRCLE        3.400000e+01\n",
       "OBS_60_CNT_SOCIAL_CIRCLE        3.440000e+02\n",
       "DEF_60_CNT_SOCIAL_CIRCLE        2.400000e+01\n",
       "DAYS_LAST_PHONE_CHANGE          0.000000e+00\n",
       "AMT_REQ_CREDIT_BUREAU_HOUR      4.000000e+00\n",
       "AMT_REQ_CREDIT_BUREAU_DAY       9.000000e+00\n",
       "AMT_REQ_CREDIT_BUREAU_WEEK      8.000000e+00\n",
       "AMT_REQ_CREDIT_BUREAU_MON       2.700000e+01\n",
       "AMT_REQ_CREDIT_BUREAU_QRT       2.610000e+02\n",
       "AMT_REQ_CREDIT_BUREAU_YEAR      2.500000e+01\n",
       "Length: 65, dtype: float64"
      ]
     },
     "execution_count": 68,
     "metadata": {},
     "output_type": "execute_result"
    }
   ],
   "source": [
    "app_train[float_features].max()"
   ]
  },
  {
   "cell_type": "code",
   "execution_count": 52,
   "metadata": {},
   "outputs": [
    {
     "data": {
      "text/plain": [
       "AMT_INCOME_TOTAL                237123.146279\n",
       "AMT_CREDIT                      402490.776996\n",
       "AMT_ANNUITY                      14493.737315\n",
       "AMT_GOODS_PRICE                 369446.460540\n",
       "REGION_POPULATION_RELATIVE           0.013831\n",
       "DAYS_REGISTRATION                 3522.886321\n",
       "OWN_CAR_AGE                         11.944812\n",
       "CNT_FAM_MEMBERS                      0.910682\n",
       "EXT_SOURCE_1                         0.211062\n",
       "EXT_SOURCE_2                         0.191060\n",
       "EXT_SOURCE_3                         0.194844\n",
       "APARTMENTS_AVG                       0.108240\n",
       "BASEMENTAREA_AVG                     0.082438\n",
       "YEARS_BEGINEXPLUATATION_AVG          0.059223\n",
       "YEARS_BUILD_AVG                      0.113280\n",
       "COMMONAREA_AVG                       0.076036\n",
       "ELEVATORS_AVG                        0.134576\n",
       "ENTRANCES_AVG                        0.100049\n",
       "FLOORSMAX_AVG                        0.144641\n",
       "FLOORSMIN_AVG                        0.161380\n",
       "LANDAREA_AVG                         0.081184\n",
       "LIVINGAPARTMENTS_AVG                 0.092576\n",
       "LIVINGAREA_AVG                       0.110565\n",
       "NONLIVINGAPARTMENTS_AVG              0.047732\n",
       "NONLIVINGAREA_AVG                    0.069523\n",
       "APARTMENTS_MODE                      0.107936\n",
       "BASEMENTAREA_MODE                    0.084307\n",
       "YEARS_BEGINEXPLUATATION_MODE         0.064575\n",
       "YEARS_BUILD_MODE                     0.110111\n",
       "COMMONAREA_MODE                      0.074445\n",
       "                                    ...      \n",
       "LIVINGAPARTMENTS_MODE                0.097880\n",
       "LIVINGAREA_MODE                      0.111845\n",
       "NONLIVINGAPARTMENTS_MODE             0.046276\n",
       "NONLIVINGAREA_MODE                   0.070254\n",
       "APARTMENTS_MEDI                      0.109076\n",
       "BASEMENTAREA_MEDI                    0.082179\n",
       "YEARS_BEGINEXPLUATATION_MEDI         0.059897\n",
       "YEARS_BUILD_MEDI                     0.112066\n",
       "COMMONAREA_MEDI                      0.076144\n",
       "ELEVATORS_MEDI                       0.134467\n",
       "ENTRANCES_MEDI                       0.100368\n",
       "FLOORSMAX_MEDI                       0.145067\n",
       "FLOORSMIN_MEDI                       0.161934\n",
       "LANDAREA_MEDI                        0.082167\n",
       "LIVINGAPARTMENTS_MEDI                0.093642\n",
       "LIVINGAREA_MEDI                      0.112260\n",
       "NONLIVINGAPARTMENTS_MEDI             0.047415\n",
       "NONLIVINGAREA_MEDI                   0.070166\n",
       "TOTALAREA_MODE                       0.107462\n",
       "OBS_30_CNT_SOCIAL_CIRCLE             2.400989\n",
       "DEF_30_CNT_SOCIAL_CIRCLE             0.446698\n",
       "OBS_60_CNT_SOCIAL_CIRCLE             2.379803\n",
       "DEF_60_CNT_SOCIAL_CIRCLE             0.362291\n",
       "DAYS_LAST_PHONE_CHANGE             826.808487\n",
       "AMT_REQ_CREDIT_BUREAU_HOUR           0.083849\n",
       "AMT_REQ_CREDIT_BUREAU_DAY            0.110757\n",
       "AMT_REQ_CREDIT_BUREAU_WEEK           0.204685\n",
       "AMT_REQ_CREDIT_BUREAU_MON            0.916002\n",
       "AMT_REQ_CREDIT_BUREAU_QRT            0.794056\n",
       "AMT_REQ_CREDIT_BUREAU_YEAR           1.869295\n",
       "Length: 65, dtype: float64"
      ]
     },
     "execution_count": 52,
     "metadata": {},
     "output_type": "execute_result"
    }
   ],
   "source": [
    "app_train[float_features].std()"
   ]
  },
  {
   "cell_type": "code",
   "execution_count": 7,
   "metadata": {},
   "outputs": [
    {
     "data": {
      "text/plain": [
       "135000.0    35750\n",
       "112500.0    31019\n",
       "157500.0    26556\n",
       "180000.0    24719\n",
       "90000.0     22483\n",
       "225000.0    20698\n",
       "202500.0    16341\n",
       "67500.0     11147\n",
       "270000.0    10827\n",
       "81000.0      6001\n",
       "315000.0     5862\n",
       "247500.0     5344\n",
       "126000.0     4668\n",
       "360000.0     4115\n",
       "121500.0     3848\n",
       "99000.0      3633\n",
       "292500.0     3418\n",
       "103500.0     3330\n",
       "76500.0      3146\n",
       "144000.0     3123\n",
       "171000.0     2647\n",
       "450000.0     2435\n",
       "117000.0     2390\n",
       "54000.0      2319\n",
       "72000.0      2187\n",
       "166500.0     2053\n",
       "45000.0      2043\n",
       "108000.0     1946\n",
       "337500.0     1790\n",
       "94500.0      1747\n",
       "            ...  \n",
       "100300.5        1\n",
       "200794.5        1\n",
       "100476.0        1\n",
       "200961.0        1\n",
       "200997.0        1\n",
       "100507.5        1\n",
       "100516.5        1\n",
       "50274.0         1\n",
       "201127.5        1\n",
       "100566.0        1\n",
       "402376.5        1\n",
       "100629.0        1\n",
       "201267.0        1\n",
       "50323.5         1\n",
       "201361.5        1\n",
       "100786.5        1\n",
       "201658.5        1\n",
       "100854.0        1\n",
       "245046.6        1\n",
       "201811.5        1\n",
       "403650.0        1\n",
       "100944.0        1\n",
       "58950.0         1\n",
       "101083.5        1\n",
       "404406.0        1\n",
       "101119.5        1\n",
       "79425.0         1\n",
       "101128.5        1\n",
       "202275.0        1\n",
       "262174.5        1\n",
       "Name: AMT_INCOME_TOTAL, Length: 2548, dtype: int64"
      ]
     },
     "execution_count": 7,
     "metadata": {},
     "output_type": "execute_result"
    }
   ],
   "source": [
    "app_train['AMT_INCOME_TOTAL'].value_counts()"
   ]
  },
  {
   "cell_type": "code",
   "execution_count": 8,
   "metadata": {},
   "outputs": [
    {
     "data": {
      "text/plain": [
       "2548"
      ]
     },
     "execution_count": 8,
     "metadata": {},
     "output_type": "execute_result"
    }
   ],
   "source": [
    "app_train['AMT_INCOME_TOTAL'].nunique()"
   ]
  },
  {
   "cell_type": "code",
   "execution_count": 9,
   "metadata": {},
   "outputs": [
    {
     "data": {
      "image/png": "[encoded data removed]",
      "text/plain": [
       "<Figure size 432x288 with 1 Axes>"
      ]
     },
     "metadata": {
      "needs_background": "light"
     },
     "output_type": "display_data"
    }
   ],
   "source": [
    "plt.hist(app_train['AMT_INCOME_TOTAL'])\n",
    "plt.show()"
   ]
  },
  {
   "cell_type": "code",
   "execution_count": null,
   "metadata": {},
   "outputs": [],
   "source": []
  }
 ],
 "metadata": {
  "kernelspec": {
   "display_name": "Python 3",
   "language": "python",
   "name": "python3"
  },
  "language_info": {
   "codemirror_mode": {
    "name": "ipython",
    "version": 3
   },
   "file_extension": ".py",
   "mimetype": "text/x-python",
   "name": "python",
   "nbconvert_exporter": "python",
   "pygments_lexer": "ipython3",
   "version": "3.6.8"
  }
 },
 "nbformat": 4,
 "nbformat_minor": 2
}
